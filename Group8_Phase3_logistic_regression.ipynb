{
 "cells": [
  {
   "cell_type": "markdown",
   "metadata": {},
   "source": [
    "## Group 8 Assignment Phase 3 Logistic Regression"
   ]
  },
  {
   "cell_type": "markdown",
   "metadata": {},
   "source": [
    "* Do the followings in HDFS:\n",
    "\n",
    "* Remove any folder/files in /tmp that starts with flightData_,\n",
    "\n",
    "* Create folder /tmp/flightData_in/,\n",
    "\n",
    "* Put the parquet dataset file into /tmp/flightData_in/,\n",
    "\n",
    "* Make sure put was successfull (it should have the same size as the local file)!"
   ]
  },
  {
   "cell_type": "code",
   "execution_count": 5,
   "metadata": {},
   "outputs": [
    {
     "name": "stdout",
     "output_type": "stream",
     "text": [
      "20/06/05 03:44:58 INFO fs.TrashPolicyDefault: Namenode trash configuration: Deletion interval = 0 minutes, Emptier interval = 0 minutes.\n",
      "\n",
      "\n",
      "Deleted hdfs://localhost:9000/tmp/flightData_in\n",
      "\n",
      "\n",
      "Found 1 items\n",
      "\n",
      "\n",
      "drwxrwxr-x   - root root          0 2020-05-24 03:38 hdfs://localhost:9000/tmp/flightData_in/flightDelay.parquet\n",
      "\n",
      "\n"
     ]
    }
   ],
   "source": [
    "! hadoop fs -chmod -R 777 hdfs://localhost:9000/tmp\n",
    "! hadoop fs -rm    -r  hdfs://localhost:9000/tmp/flightData_*\n",
    "! hadoop fs -mkdir -p  hdfs://localhost:9000/tmp/flightData_in\n",
    "! hadoop fs -put   -p  flightDelay.parquet             hdfs://localhost:9000/tmp/flightData_in\n",
    "! hadoop fs -ls        hdfs://localhost:9000/tmp/flightData_in/"
   ]
  },
  {
   "cell_type": "code",
   "execution_count": 6,
   "metadata": {},
   "outputs": [
    {
     "name": "stdout",
     "output_type": "stream",
     "text": [
      "hdfs://localhost:9000\r\n",
      "\n"
     ]
    }
   ],
   "source": [
    "!hdfs getconf -confKey fs.defaultFS"
   ]
  },
  {
   "cell_type": "markdown",
   "metadata": {},
   "source": [
    "## Load Regquisite Libraries and Start a Spark Session"
   ]
  },
  {
   "cell_type": "code",
   "execution_count": 7,
   "metadata": {},
   "outputs": [
    {
     "data": {
      "text/plain": [
       "Intitializing Scala interpreter ..."
      ]
     },
     "metadata": {},
     "output_type": "display_data"
    },
    {
     "data": {
      "text/plain": [
       "Spark Web UI available at http://a45c2dc34def:4040\n",
       "SparkContext available as 'sc' (version = 2.4.5, master = local[*], app id = local-1591328726437)\n",
       "SparkSession available as 'spark'\n"
      ]
     },
     "metadata": {},
     "output_type": "display_data"
    },
    {
     "data": {
      "text/plain": [
       "import org.apache.spark.sql.{SparkSession, DataFrame}\n",
       "import org.apache.spark.sql.functions._\n",
       "import org.apache.spark.sql.types._\n",
       "import org.apache.spark.sql._\n",
       "import org.apache.spark.ml.attribute._\n",
       "import org.apache.spark.ml.feature.{VectorAssembler, StringIndexer, VectorIndexer, OneHotEncoder, PCA, Normalizer}\n",
       "import org.apache.spark.ml.linalg.{Vector, Vectors}\n",
       "import org.apache.spark.ml.{Pipeline, PipelineStage, PipelineModel}\n",
       "import org.apache.spark.ml.classification.{LogisticRegression, LogisticRegressionModel, BinaryLogisticRegressionSummary, RandomForestClassifier, GBTClassifier, DecisionTreeClassifier, DecisionTreeClassificationModel}\n",
       "import org.apache.spark.ml.param.ParamMap\n",
       "import org.apache.spark.ml.tuning.{CrossValidator, CrossValidatorModel, ParamGridBuilder, TrainValidatio..."
      ]
     },
     "execution_count": 7,
     "metadata": {},
     "output_type": "execute_result"
    }
   ],
   "source": [
    "//Start a simple Spark Session\n",
    "import org.apache.spark.sql.{SparkSession, DataFrame}\n",
    "import org.apache.spark.sql.functions._\n",
    "import org.apache.spark.sql.types._\n",
    "import org.apache.spark.sql._\n",
    "\n",
    "import org.apache.spark.ml.attribute._\n",
    "\n",
    "//Feature pre-Processing Classes\n",
    "import org.apache.spark.ml.feature.{VectorAssembler,StringIndexer,\n",
    "                                    VectorIndexer,OneHotEncoder, PCA, Normalizer}\n",
    "\n",
    "//Linear Algebra Data Structures\n",
    "import org.apache.spark.ml.linalg.{Vector,Vectors}\n",
    "\n",
    "//Model Building Pipeline\n",
    "import org.apache.spark.ml.{Pipeline, PipelineStage, PipelineModel}\n",
    "\n",
    "//Binary Classification\n",
    "import org.apache.spark.ml.classification.{LogisticRegression, LogisticRegressionModel, BinaryLogisticRegressionSummary,\n",
    "                                           RandomForestClassifier, GBTClassifier,\n",
    "                                           DecisionTreeClassifier, DecisionTreeClassificationModel}\n",
    "//Model Training\n",
    "import org.apache.spark.ml.param.ParamMap\n",
    "import org.apache.spark.ml.tuning.{CrossValidator, CrossValidatorModel, \n",
    "                                   ParamGridBuilder, TrainValidationSplit}\n",
    "\n",
    "//Model Evaluation\n",
    "import org.apache.spark.ml.evaluation.{BinaryClassificationEvaluator,MulticlassClassificationEvaluator}\n",
    "\n",
    "//Optional: Use the following code below to set the Error reporting\n",
    "import org.apache.log4j._\n",
    "Logger.getLogger(\"org\").setLevel(Level.ERROR)\n",
    "\n",
    "\n",
    "//For Cleaning\n",
    "//import scala.util.matching.Regex\n",
    "\n",
    "val spark = SparkSession.builder().appName(\"Group 8 ML Phase 3\").getOrCreate()"
   ]
  },
  {
   "cell_type": "markdown",
   "metadata": {},
   "source": [
    "## Read in a parquet file of flight delay, fuel-price and meteorological data"
   ]
  },
  {
   "cell_type": "code",
   "execution_count": 8,
   "metadata": {},
   "outputs": [
    {
     "name": "stdout",
     "output_type": "stream",
     "text": [
      "root\n",
      " |-- Departing_Port: string (nullable = true)\n",
      " |-- Arriving_Port: string (nullable = true)\n",
      " |-- Airline: string (nullable = true)\n",
      " |-- label: integer (nullable = true)\n",
      " |-- Year: integer (nullable = true)\n",
      " |-- Month_Num: string (nullable = true)\n",
      " |-- Fuel_Price: double (nullable = true)\n",
      " |-- Departing_Port_station_ID: string (nullable = true)\n",
      " |-- Departing_Port_station_name: string (nullable = true)\n",
      " |-- Arriving_Port_station_ID: string (nullable = true)\n",
      " |-- Arriving_Port_station_name: string (nullable = true)\n",
      " |-- Mean_3pm_cloud_cover_oktas_Depart: double (nullable = true)\n",
      " |-- Mean_3pm_dew_point_temperature_Degrees_C_Depart: double (nullable = true)\n",
      " |-- Mean_3pm_relative_humidity_%_Depart: double (nullable = true)\n",
      " |-- Mean_3pm_temperature_Degrees_C_Depart: double (nullable = true)\n",
      " |-- Mean_3pm_wet_bulb_temperature_Degrees_C_Depart: double (nullable = true)\n",
      " |-- Mean_3pm_wind_speed_km/h_Depart: double (nullable = true)\n",
      " |-- Mean_9am_cloud_cover_okas_Depart: double (nullable = true)\n",
      " |-- Mean_9am_dew_point_temperature_Degrees_C_Depart: double (nullable = true)\n",
      " |-- Mean_9am_relative_humidity_%_Depart: double (nullable = true)\n",
      " |-- Mean_9am_temperature_Degrees_C_Depart: double (nullable = true)\n",
      " |-- Mean_9am_wet_bulb_temperature_Degrees_C_Depart: double (nullable = true)\n",
      " |-- Mean_9am_wind_speed_km/h_Depart: double (nullable = true)\n",
      " |-- Mean_daily_evaporation_mm_Depart: double (nullable = true)\n",
      " |-- Mean_daily_ground_minimum_temperature_Degrees_C_Depart: double (nullable = true)\n",
      " |-- Mean_daily_solar_exposure_MJ/m*m_Depart: double (nullable = true)\n",
      " |-- Mean_daily_sunshine_hours_Depart: double (nullable = true)\n",
      " |-- Mean_daily_wind_run_km_Depart: double (nullable = true)\n",
      " |-- Mean_maximum_temperature_Degrees_C_Depart: double (nullable = true)\n",
      " |-- Mean_minimum_temperature_Degrees_C_Depart: double (nullable = true)\n",
      " |-- Mean_number_of_clear_days_Depart: double (nullable = true)\n",
      " |-- Mean_number_of_cloudy_days_Depart: double (nullable = true)\n",
      " |-- Mean_number_of_days_<_0_Degrees_C_Depart: double (nullable = true)\n",
      " |-- Mean_number_of_days_<_2_Degrees_C_Depart: double (nullable = true)\n",
      " |-- Mean_number_of_days_>_30_Degrees_C_Depart: double (nullable = true)\n",
      " |-- Mean_number_of_days_>_35_Degrees_C_Depart: double (nullable = true)\n",
      " |-- Mean_number_of_days_>_40_Degrees_C_Depart: double (nullable = true)\n",
      " |-- Mean_number_of_days_of_rain_Depart: double (nullable = true)\n",
      " |-- Mean_number_of_days_of_rain_>_1_mm_Depart: double (nullable = true)\n",
      " |-- Mean_number_of_days_of_rain_>_10_mm_Depart: double (nullable = true)\n",
      " |-- Mean_number_of_days_of_rain_>_25_mm_Depart: double (nullable = true)\n",
      " |-- Mean_rainfall_mm_Depart: double (nullable = true)\n",
      " |-- Mean_3pm_cloud_cover_oktas_Arrive: double (nullable = true)\n",
      " |-- Mean_3pm_dew_point_temperature_Degrees_C_Arrive: double (nullable = true)\n",
      " |-- Mean_3pm_relative_humidity_%_Arrive: double (nullable = true)\n",
      " |-- Mean_3pm_temperature_Degrees_C_Arrive: double (nullable = true)\n",
      " |-- Mean_3pm_wet_bulb_temperature_Degrees_C_Arrive: double (nullable = true)\n",
      " |-- Mean_3pm_wind_speed_km/h_Arrive: double (nullable = true)\n",
      " |-- Mean_9am_cloud_cover_okas_Arrive: double (nullable = true)\n",
      " |-- Mean_9am_dew_point_temperature_Degrees_C_Arrive: double (nullable = true)\n",
      " |-- Mean_9am_relative_humidity_%_Arrive: double (nullable = true)\n",
      " |-- Mean_9am_temperature_Degrees_C_Arrive: double (nullable = true)\n",
      " |-- Mean_9am_wet_bulb_temperature_Degrees_C_Arrive: double (nullable = true)\n",
      " |-- Mean_9am_wind_speed_km/h_Arrive: double (nullable = true)\n",
      " |-- Mean_daily_evaporation_mm_Arrive: double (nullable = true)\n",
      " |-- Mean_daily_ground_minimum_temperature_Degrees_C_Arrive: double (nullable = true)\n",
      " |-- Mean_daily_solar_exposure_MJ/m*m_Arrive: double (nullable = true)\n",
      " |-- Mean_daily_sunshine_hours_Arrive: double (nullable = true)\n",
      " |-- Mean_daily_wind_run_km_Arrive: double (nullable = true)\n",
      " |-- Mean_maximum_temperature_Degrees_C_Arrive: double (nullable = true)\n",
      " |-- Mean_minimum_temperature_Degrees_C_Arrive: double (nullable = true)\n",
      " |-- Mean_number_of_clear_days_Arrive: double (nullable = true)\n",
      " |-- Mean_number_of_cloudy_days_Arrive: double (nullable = true)\n",
      " |-- Mean_number_of_days_<_0_Degrees_C_Arrive: double (nullable = true)\n",
      " |-- Mean_number_of_days_<_2_Degrees_C_Arrive: double (nullable = true)\n",
      " |-- Mean_number_of_days_>_30_Degrees_C_Arrive: double (nullable = true)\n",
      " |-- Mean_number_of_days_>_35_Degrees_C_Arrive: double (nullable = true)\n",
      " |-- Mean_number_of_days_>_40_Degrees_C_Arrive: double (nullable = true)\n",
      " |-- Mean_number_of_days_of_rain_Arrive: double (nullable = true)\n",
      " |-- Mean_number_of_days_of_rain_>_1_mm_Arrive: double (nullable = true)\n",
      " |-- Mean_number_of_days_of_rain_>_10_mm_Arrive: double (nullable = true)\n",
      " |-- Mean_number_of_days_of_rain_>_25_mm_Arrive: double (nullable = true)\n",
      " |-- Mean_rainfall_mm_Arrive: double (nullable = true)\n",
      " |-- Date_Num: integer (nullable = true)\n",
      "\n"
     ]
    },
    {
     "data": {
      "text/plain": [
       "flights: org.apache.spark.sql.DataFrame = [Departing_Port: string, Arriving_Port: string ... 72 more fields]\n"
      ]
     },
     "execution_count": 8,
     "metadata": {},
     "output_type": "execute_result"
    }
   ],
   "source": [
    "val flights = (spark\n",
    "            .read.parquet(\"hdfs://localhost:9000/tmp/flightData_in/flightDelay.parquet\")\n",
    "            .withColumn(\"Month_Num1\", $\"Month_Num\" cast \"Int\")\n",
    "            //convert month and year to integer index starting Jan 2004\n",
    "            .withColumn(\"Date_Num\",  ($\"Year\"-2004)*12 + $\"Month_Num1\")\n",
    "            .drop(\"Sectors_Flown\", \"Month_Num1\", \"Change\")\n",
    "            .withColumnRenamed(\"Departures_Delayed\",\"label\")\n",
    "            .withColumnRenamed(\"Price\",\"Fuel_Price\")\n",
    "            //drop NA's even though none were found!\n",
    "            .na.drop()\n",
    "            //.cache\n",
    "              )\n",
    "\n",
    "flights.printSchema()"
   ]
  },
  {
   "cell_type": "markdown",
   "metadata": {},
   "source": [
    "## Take a look at the degree of imbalance in the dataset"
   ]
  },
  {
   "cell_type": "code",
   "execution_count": 9,
   "metadata": {},
   "outputs": [
    {
     "name": "stdout",
     "output_type": "stream",
     "text": [
      "proportion of lates (label=1) in the sample\n",
      "+-----+-------+\n",
      "|label|  count|\n",
      "+-----+-------+\n",
      "|    1|1072071|\n",
      "|    0|5224826|\n",
      "+-----+-------+\n",
      "\n"
     ]
    },
    {
     "data": {
      "text/plain": [
       "counts: org.apache.spark.sql.DataFrame = [label: int, count: bigint]\n"
      ]
     },
     "execution_count": 9,
     "metadata": {},
     "output_type": "execute_result"
    }
   ],
   "source": [
    "val counts = flights.groupBy(\"label\").count()\n",
    "\n",
    "println(\"proportion of lates (label=1) in the sample\")\n",
    "counts.show()"
   ]
  },
  {
   "cell_type": "markdown",
   "metadata": {},
   "source": [
    "## Split The Data into training and testing dataframes"
   ]
  },
  {
   "cell_type": "code",
   "execution_count": 10,
   "metadata": {},
   "outputs": [
    {
     "name": "stdout",
     "output_type": "stream",
     "text": [
      "Test Set of the Most Recent 12 Months has 435479 records\n"
     ]
    },
    {
     "data": {
      "text/plain": [
       "testing: org.apache.spark.sql.Dataset[org.apache.spark.sql.Row] = [Departing_Port: string, Arriving_Port: string ... 72 more fields]\n",
       "rawTraining: org.apache.spark.sql.Dataset[org.apache.spark.sql.Row] = [Departing_Port: string, Arriving_Port: string ... 72 more fields]\n"
      ]
     },
     "execution_count": 10,
     "metadata": {},
     "output_type": "execute_result"
    }
   ],
   "source": [
    "//Filter out the most recent 12 months of flight data as the test dataset\n",
    "//Dates after March 2019 have Date_Num > 183\n",
    "val testing = flights.filter($\"Date_Num\"> 183).cache()\n",
    "println(s\"Test Set of the Most Recent 12 Months has ${testing.count()} records\")\n",
    "\n",
    "//Filter out rows prior to the most recent 12 months of flight data as the training dataset\n",
    "val rawTraining = flights.filter($\"Date_Num\" < 184)\n"
   ]
  },
  {
   "cell_type": "markdown",
   "metadata": {},
   "source": [
    "## Down sample the Ontime Departures To Balance The Training data"
   ]
  },
  {
   "cell_type": "code",
   "execution_count": 11,
   "metadata": {},
   "outputs": [
    {
     "name": "stdout",
     "output_type": "stream",
     "text": [
      "On time Training Flights: 4884963\n",
      "Delayed Training Flights: 976455\n",
      "Down Sampled ontime Training Flights: 976969\n",
      "proportion of lates (label=1) in the sample\n",
      "+-----+-----+\n",
      "|label|count|\n",
      "+-----+-----+\n",
      "|    1|98109|\n",
      "|    0|97607|\n",
      "+-----+-----+\n",
      "\n"
     ]
    },
    {
     "data": {
      "text/plain": [
       "ontimeTrainingFlights: org.apache.spark.sql.Dataset[org.apache.spark.sql.Row] = [Departing_Port: string, Arriving_Port: string ... 72 more fields]\n",
       "delayedTrainingFlights: org.apache.spark.sql.Dataset[org.apache.spark.sql.Row] = [Departing_Port: string, Arriving_Port: string ... 72 more fields]\n",
       "downSampleFraction: Double = 0.2\n",
       "sampledOntimeTrainingFlights: org.apache.spark.sql.Dataset[org.apache.spark.sql.Row] = [Departing_Port: string, Arriving_Port: string ... 72 more fields]\n",
       "localTestingSampleFraction: Double = 0.1\n",
       "training: org.apache.spark.sql.Dataset[org.apache.spark.sql.Row] = [Departing_Port: string, Arriving_Port: string ... 72 more fields]\n",
       "resampledCounts: org.apache.spark.sql.DataFrame = [label: int, count: bigint]\n"
      ]
     },
     "execution_count": 11,
     "metadata": {},
     "output_type": "execute_result"
    }
   ],
   "source": [
    "val ontimeTrainingFlights = rawTraining.filter($\"label\"===0)\n",
    "println(s\"On time Training Flights: ${ontimeTrainingFlights.count()}\")\n",
    "\n",
    "val delayedTrainingFlights = rawTraining.filter($\"label\"===1)\n",
    "println(s\"Delayed Training Flights: ${delayedTrainingFlights.count()}\")\n",
    "\n",
    "//ontime:delayed approx 5:1 so take a random sample of size fifth of the ontime departures\n",
    "val downSampleFraction = 0.2\n",
    "val sampledOntimeTrainingFlights = ontimeTrainingFlights.sample(false, downSampleFraction)  \n",
    "\n",
    "println(s\"Down Sampled ontime Training Flights: ${sampledOntimeTrainingFlights.count()}\")\n",
    "\n",
    "//down sample resulting training set for the purposes of local testing\n",
    "val localTestingSampleFraction = 0.1\n",
    "//Concatenate rows of ontimeTrainingFlights and delayedTrainingFlights\n",
    "val training = (sampledOntimeTrainingFlights\n",
    "                .union(delayedTrainingFlights)\n",
    "                .sample(false, localTestingSampleFraction)\n",
    "                .cache())\n",
    "               \n",
    "val resampledCounts = training.groupBy(\"label\").count()\n",
    "println(\"proportion of lates (label=1) in the sample\")\n",
    "resampledCounts.show()"
   ]
  },
  {
   "cell_type": "markdown",
   "metadata": {},
   "source": [
    "## Contruct a Confusion Matrix for Model Assessment"
   ]
  },
  {
   "cell_type": "code",
   "execution_count": 21,
   "metadata": {},
   "outputs": [
    {
     "data": {
      "text/plain": [
       "getConfusionMatrix: (predictionDF: org.apache.spark.sql.DataFrame)Unit\n"
      ]
     },
     "execution_count": 21,
     "metadata": {},
     "output_type": "execute_result"
    }
   ],
   "source": [
    "def getConfusionMatrix(predictionDF: DataFrame): Unit = {\n",
    "    \n",
    "    println(\"========================Model Assessment Metrics==================================================\")\n",
    "    // Define Binary Classification Evaluator\n",
    "    val binaryEval = new BinaryClassificationEvaluator().setLabelCol(\"label\").setRawPredictionCol(\"rawPrediction\")\n",
    "    // Run Evaluation.  The area under the ROC curve ranges from 0.5 and 1.0 with larger values indicative of better fit\n",
    "    println(s\"Area under ROC: ${binaryEval.setMetricName(\"areaUnderROC\").evaluate(predictionDF)}\")\n",
    "    // Define Multiclass Classification Evaluator\n",
    "    val multiEval = new MulticlassClassificationEvaluator().setLabelCol(\"label\").setPredictionCol(\"prediction\")\n",
    "    println(s\"Accuracy: ${multiEval.setMetricName(\"accuracy\").evaluate(predictionDF)}\")\n",
    "    println(s\"Weighted Precision: ${multiEval.setMetricName(\"weightedPrecision\").evaluate(predictionDF)}\")\n",
    "    println(s\"Weighted Recall: ${multiEval.setMetricName(\"weightedRecall\").evaluate(predictionDF)}\")\n",
    "    println(s\"F1: ${multiEval.setMetricName(\"f1\").evaluate(predictionDF)}\")\n",
    "\n",
    "    val TP = predictionDF.select(\"label\", \"prediction\").filter(\"label = 1 and prediction = 1\").count\n",
    "    val TN = predictionDF.select(\"label\", \"prediction\").filter(\"label = 0 and prediction = 0\").count\n",
    "    val FP = predictionDF.select(\"label\", \"prediction\").filter(\"label = 0 and prediction = 1\").count\n",
    "    val FN = predictionDF.select(\"label\", \"prediction\").filter(\"label = 1 and prediction = 0\").count\n",
    "    val total = predictionDF.select(\"label\").count.toDouble\n",
    "    // Unweighted Metrics\n",
    "    val accuracy    = (TP + TN) / total\n",
    "    val precision   = (TP + FP) / total\n",
    "    val recall      = (TP + FN) / total\n",
    "    val F1 = 2/(1/precision + 1/recall)\n",
    "    println(s\"Accuracy: ${accuracy}\")\n",
    "    println(s\"Precision: ${precision}\")\n",
    "    println(s\"Recall: ${recall}\")\n",
    "    println(s\"F1: ${F1}\")\n",
    "\n",
    "    // Confusion matrix\n",
    "    printf(s\"\"\"|=================== Confusion Matrix ==========================\n",
    "           |##########| %-15s                     %-15s\n",
    "           |----------+----------------------------------------------------\n",
    "           |Actual = 0| %-15d                     %-15d\n",
    "           |Actual = 1| %-15d                     %-15d\n",
    "           |===============================================================\n",
    "         \"\"\".stripMargin, \"Predicted = 0\", \"Predicted = 1\", TN, FP, FN, TP)\n",
    "\n",
    "    println(\"==================================================================================================\")\n",
    "}\n"
   ]
  },
  {
   "cell_type": "markdown",
   "metadata": {},
   "source": [
    "## Set up Flight Data Feature Processing Pipleline Stages for Arbitrary Estimator"
   ]
  },
  {
   "cell_type": "code",
   "execution_count": 13,
   "metadata": {},
   "outputs": [
    {
     "data": {
      "text/plain": [
       "categoricalVariables: Array[String] = Array(Departing_Port, Arriving_Port, Airline)\n",
       "categoricalIndexers: Array[org.apache.spark.ml.feature.StringIndexer] = Array(strIdx_5e1154b95779, strIdx_8169f45e0912, strIdx_876fee818f32)\n",
       "categoricalEncoders: Array[org.apache.spark.ml.feature.OneHotEncoder] = Array(oneHot_a39e512d0c95, oneHot_cc8ceb3b059a, oneHot_04ed4b7fe449)\n",
       "explanatoryFields: Array[String] = Array(Date_Num, Airline_Vec, Fuel_Price, Departing_Port_Vec, Mean_daily_wind_run_km_Depart, Mean_rainfall_mm_Depart, Mean_number_of_days_of_rain_Depart, Mean_number_of_days_>_40_Degrees_C_Depart, Arriving_Port_Vec)\n",
       "assembler: org.apache.spark.ml.feature.VectorAssembler = vecAssembler_dcb98d29439a\n",
       "normalizer: org.apache.spark.ml.feature.Normalizer = normalizer_fe279c982b15\n",
       "pcaDOF: Int = 14\n",
       "pca:..."
      ]
     },
     "execution_count": 13,
     "metadata": {},
     "output_type": "execute_result"
    }
   ],
   "source": [
    "// Deal with Categorical Columns\n",
    "val categoricalVariables = Array(\n",
    "    \"Departing_Port\", \"Arriving_Port\", \"Airline\")\n",
    "val categoricalIndexers = categoricalVariables\n",
    "  .map(i => new StringIndexer().setInputCol(i).setOutputCol(i+\"_Index\"))\n",
    "val categoricalEncoders = categoricalVariables\n",
    "  .map(e => new OneHotEncoder().setInputCol(e + \"_Index\").setOutputCol(e + \"_Vec\"))\n",
    "\n",
    "\n",
    "// select the flight data explanatory fields that will predict flight delay\n",
    "val explanatoryFields = Array(\"Date_Num\",  \"Airline_Vec\", \"Fuel_Price\",\n",
    "    \"Departing_Port_Vec\", \"Mean_daily_wind_run_km_Depart\", \"Mean_rainfall_mm_Depart\",\n",
    "    \"Mean_number_of_days_of_rain_Depart\",\"Mean_number_of_days_>_40_Degrees_C_Depart\",\n",
    "    \"Arriving_Port_Vec\")\n",
    "\n",
    "// Assemble everything together to be (\"label\",\"features\") format\n",
    "val assembler = (new VectorAssembler()\n",
    "                 .setInputCols(explanatoryFields)\n",
    "                 //.setOutputCol(\"indexedFeatures\")\n",
    "                 .setOutputCol(\"features\")\n",
    "                )\n",
    "\n",
    "// Normalize each Vector using $L^1$ norm.\n",
    "val normalizer = new Normalizer()\n",
    "  .setInputCol(assembler.getOutputCol)\n",
    "  .setOutputCol(\"normedFeatures\")\n",
    "  .setP(1.0)\n",
    "\n",
    "\n",
    "// Choose linear combinations of explanatory variables that explain the most variance in the training data\n",
    "//PCA DOF\n",
    "val pcaDOF = 14\n",
    "val pca = new PCA()\n",
    "    .setInputCol(assembler.getOutputCol)\n",
    "    .setOutputCol(\"features\")\n",
    "    .setK(pcaDOF)\n",
    "\n",
    "///////////////////////////////////////////////////////////////////////////\n",
    "//   Define Feature Preprocessing Stages suitable for all candidate models  ///\n",
    "///////////////////////////////////////////////////////////////////////////\n",
    "\n",
    "//val featureProcessingStages: Array[PipelineStage] = categoricalIndexers ++ categoricalEncoders ++ Array(assembler, normalizer, pca)\n",
    "\n",
    "val featureProcessingStages: Array[PipelineStage] = categoricalIndexers ++ categoricalEncoders ++ Array(assembler)\n"
   ]
  },
  {
   "cell_type": "markdown",
   "metadata": {},
   "source": [
    "## Setup a Cross Validated Logistic Regression Pipeline"
   ]
  },
  {
   "cell_type": "code",
   "execution_count": 14,
   "metadata": {},
   "outputs": [
    {
     "data": {
      "text/plain": [
       "lr: org.apache.spark.ml.classification.LogisticRegression = logreg_eaa0837ec626\n",
       "lrParamGrid: Array[org.apache.spark.ml.param.ParamMap] =\n",
       "Array({\n",
       "\tlogreg_eaa0837ec626-elasticNetParam: 0.0,\n",
       "\tlogreg_eaa0837ec626-regParam: 0.01,\n",
       "\tlogreg_eaa0837ec626-threshold: 0.46,\n",
       "\tlogreg_eaa0837ec626-tol: 1.0E-6\n",
       "}, {\n",
       "\tlogreg_eaa0837ec626-elasticNetParam: 0.0,\n",
       "\tlogreg_eaa0837ec626-regParam: 0.01,\n",
       "\tlogreg_eaa0837ec626-threshold: 0.47,\n",
       "\tlogreg_eaa0837ec626-tol: 1.0E-6\n",
       "}, {\n",
       "\tlogreg_eaa0837ec626-elasticNetParam: 0.0,\n",
       "\tlogreg_eaa0837ec626-regParam: 0.01,\n",
       "\tlogreg_eaa0837ec626-threshold: 0.48,\n",
       "\tlogreg_eaa0837ec626-tol: 1.0E-6\n",
       "})\n",
       "cv: org.apache.spark.ml.tuning.CrossValidator = cv_efa90acf25fe\n"
      ]
     },
     "execution_count": 14,
     "metadata": {},
     "output_type": "execute_result"
    }
   ],
   "source": [
    "// Define the Logistic Regression Estimator.\n",
    "val lr = new LogisticRegression()\n",
    "        .setFeaturesCol(assembler.getOutputCol)\n",
    "        //.setFeaturesCol(pca.getOutputCol)\n",
    "        .setLabelCol(\"label\")\n",
    "\n",
    "// Print out the parameters, documentation, and any default values.\n",
    "//println(s\"LogisticRegression parameters:\\n ${lr.explainParams()}\\n\")\n",
    "\n",
    "// We use a ParamGridBuilder to construct a grid of parameters to search over.\n",
    "val lrParamGrid = new ParamGridBuilder()\n",
    "  .addGrid(lr.regParam, Array(0.01))\n",
    "  .addGrid(lr.threshold, (for (i <- 46 to 48) yield i.toDouble / 100).toArray)\n",
    "  .addGrid(lr.tol, Array(0.000001))\n",
    "  .addGrid(lr.elasticNetParam, Array(0.0))\n",
    "  .build()\n",
    "\n",
    "\n",
    "\n",
    "// A CrossValidator requires an Estimator, a set of Estimator ParamMaps, and an Evaluator.\n",
    "// Note that the evaluator here is a BinaryClassificationEvaluator and its default metric is areaUnderROC.\n",
    "val cv = new CrossValidator()\n",
    "  .setEstimator(new Pipeline().setStages(featureProcessingStages ++ Array(lr)))\n",
    "  .setEvaluator(new BinaryClassificationEvaluator)\n",
    "  .setEstimatorParamMaps(lrParamGrid)\n",
    "  .setNumFolds(3)  // Use 3+ in practice\n",
    "  //.setParallelism(2)  // Evaluate up to 2 parameter settings in parallel\n"
   ]
  },
  {
   "cell_type": "markdown",
   "metadata": {},
   "source": [
    "## Train the Logistic Regression Model using Cross Valiation Tuning for Hyperparameters"
   ]
  },
  {
   "cell_type": "code",
   "execution_count": 15,
   "metadata": {},
   "outputs": [
    {
     "name": "stdout",
     "output_type": "stream",
     "text": [
      "2020-06-05 03:49:17,594 WARN  [Thread-4] netlib.BLAS (BLAS.java:<clinit>(61)) - Failed to load implementation from: com.github.fommil.netlib.NativeSystemBLAS\n",
      "2020-06-05 03:49:17,596 WARN  [Thread-4] netlib.BLAS (BLAS.java:<clinit>(61)) - Failed to load implementation from: com.github.fommil.netlib.NativeRefBLAS\n",
      "ElasticNetParam: 0.0\n",
      "Threshold: 0.47\n",
      "areaUnderCurve: 0.5948465368862681\n",
      "MaxFMeasure: 0.6687893260556441 & bestThreshold: 0.33485248667659895\n"
     ]
    },
    {
     "data": {
      "text/plain": [
       "pipelineModel: org.apache.spark.ml.tuning.CrossValidatorModel = cv_efa90acf25fe\n",
       "bestModel: Option[org.apache.spark.ml.PipelineModel] = Some(pipeline_e1a379f68b05)\n",
       "ml: Option[org.apache.spark.ml.classification.LogisticRegressionModel] = Some(LogisticRegressionModel: uid = logreg_eaa0837ec626, numClasses = 2, numFeatures = 101)\n",
       "lrModel: org.apache.spark.ml.classification.LogisticRegressionModel = LogisticRegressionModel: uid = logreg_eaa0837ec626, numClasses = 2, numFeatures = 101\n",
       "lrModelSummary: org.apache.spark.ml.classification.BinaryLogisticRegressionSummary = org.apache.spark.ml.classification.BinaryLogisticRegressionTrainingSummaryImpl@71b16a57\n",
       "fMeasure: org.apache.spark.sql.DataFrame = [threshold: double, F-Measure: double]\n",
       "maxFMeasure: Double = 0.6687893260556441\n",
       "bestThreshold: Do..."
      ]
     },
     "execution_count": 15,
     "metadata": {},
     "output_type": "execute_result"
    }
   ],
   "source": [
    "// Run cross-validation, and choose the best set of parameters.\n",
    "val pipelineModel = cv.fit(training)\n",
    "\n",
    "\n",
    "val bestModel = pipelineModel.bestModel match {\n",
    "  case pm: PipelineModel => Some(pm)\n",
    "  case _ => None\n",
    "}\n",
    "\n",
    "val ml = bestModel\n",
    "    .map(_.stages.collect { case ml: LogisticRegressionModel => ml })\n",
    "    .flatMap(_.headOption)\n",
    "\n",
    "// Get fitted logistic regression model\n",
    "val lrModel = ml.get.asInstanceOf[LogisticRegressionModel]\n",
    "\n",
    "//Get Coeffs of the Best Logistic Regression Model\n",
    "//println(s\"Intercept: ${lrModel.intercept}\")\n",
    "//println(s\"Coefficients: ${lrModel.coefficients}\")\n",
    "println(s\"ElasticNetParam: ${lrModel.getElasticNetParam}\")\n",
    "println(s\"Threshold: ${lrModel.getThreshold}\")\n",
    "\n",
    "\n",
    "val lrModelSummary = ml.get.summary.asInstanceOf[BinaryLogisticRegressionSummary]\n",
    "println(s\"areaUnderCurve: ${lrModelSummary.areaUnderROC}\")\n",
    "val fMeasure = lrModelSummary.fMeasureByThreshold\n",
    "val maxFMeasure = fMeasure.agg(\"F-Measure\" -> \"Max\").head().getDouble(0)\n",
    "val bestThreshold = fMeasure.where($\"F-Measure\" === maxFMeasure).select(\"threshold\").head().getDouble(0)\n",
    "println(s\"MaxFMeasure: $maxFMeasure & bestThreshold: $bestThreshold\")\n"
   ]
  },
  {
   "cell_type": "markdown",
   "metadata": {},
   "source": [
    "## Test the Logistic Regression Pipeline and Report on the performance"
   ]
  },
  {
   "cell_type": "code",
   "execution_count": 16,
   "metadata": {},
   "outputs": [
    {
     "name": "stdout",
     "output_type": "stream",
     "text": [
      "Coefficient   Feature\n",
      "====================================================================\n",
      "0.0008        (Intercept)                                       \n",
      "-0.1253        Date_Num                                          \n",
      "-0.1480        Airline_Vec_Virgin Australia                      \n",
      "0.3251        Airline_Vec_Qantas                                \n",
      "0.0571        Airline_Vec_Jetstar                               \n",
      "0.3517        Airline_Vec_QantasLink                            \n",
      "-0.2521        Airline_Vec_Tigerair Australia                    \n",
      "-0.0515        Airline_Vec_Regional Express                      \n",
      "0.2328        Airline_Vec_Virgin Australia Regional Airlines    \n",
      "0.4137        Airline_Vec_Virgin Australia - ATR/F100 Operations\n",
      "0.2433        Airline_Vec_Skywest                               \n",
      "0.0471        Fuel_Price                                        \n",
      "-0.0404        Departing_Port_Vec_Sydney                         \n",
      "-0.0223        Departing_Port_Vec_Melbourne                      \n",
      "0.0871        Departing_Port_Vec_Brisbane                       \n",
      "-0.2695        Departing_Port_Vec_Perth                          \n",
      "-0.1494        Departing_Port_Vec_Adelaide                       \n",
      "0.1200        Departing_Port_Vec_Canberra                       \n",
      "-0.1465        Departing_Port_Vec_Gold Coast                     \n",
      "0.0651        Departing_Port_Vec_Cairns                         \n",
      "-0.0733        Departing_Port_Vec_Hobart                         \n",
      "0.0101        Departing_Port_Vec_Townsville                     \n",
      "0.1208        Departing_Port_Vec_Launceston                     \n",
      "0.1982        Departing_Port_Vec_Newcastle                      \n",
      "0.0578        Departing_Port_Vec_Sunshine Coast                 \n",
      "0.3461        Departing_Port_Vec_Rockhampton                    \n",
      "-0.0617        Departing_Port_Vec_Dubbo                          \n",
      "0.3047        Departing_Port_Vec_Mackay                         \n",
      "0.2756        Departing_Port_Vec_Albury                         \n",
      "0.3077        Departing_Port_Vec_Darwin                         \n",
      "0.2327        Departing_Port_Vec_Wagga Wagga                    \n",
      "-0.2623        Departing_Port_Vec_Coffs Harbour                  \n",
      "-0.3712        Departing_Port_Vec_Mildura                        \n",
      "0.4359        Departing_Port_Vec_Karratha                       \n",
      "0.2286        Departing_Port_Vec_Port Macquarie                 \n",
      "-0.5235        Departing_Port_Vec_Broome                         \n",
      "0.5268        Departing_Port_Vec_Port Lincoln                   \n",
      "0.1478        Departing_Port_Vec_Ballina                        \n",
      "-0.3061        Departing_Port_Vec_Gladstone                      \n",
      "-0.2972        Departing_Port_Vec_Port Hedland                   \n",
      "0.2134        Departing_Port_Vec_Kalgoorlie                     \n",
      "-0.0133        Departing_Port_Vec_Hamilton Island                \n",
      "-0.2253        Departing_Port_Vec_Emerald                        \n",
      "0.1637        Departing_Port_Vec_Newman                         \n",
      "0.4222        Departing_Port_Vec_Proserpine                     \n",
      "-0.3626        Departing_Port_Vec_Armidale                       \n",
      "-0.0914        Departing_Port_Vec_Geraldton                      \n",
      "0.5109        Departing_Port_Vec_Bundaberg                      \n",
      "0.2853        Departing_Port_Vec_Alice Springs                  \n",
      "-0.2770        Departing_Port_Vec_Tamworth                       \n",
      "0.5662        Departing_Port_Vec_Moranbah                       \n",
      "-0.2483        Departing_Port_Vec_Ayers Rock                     \n",
      "-0.5723        Departing_Port_Vec_Mount Isa                      \n",
      "-0.7816        Departing_Port_Vec_Burnie                         \n",
      "0.0009        Departing_Port_Vec_Devonport                      \n",
      "-0.0010        Mean_daily_wind_run_km_Depart                     \n",
      "0.0132        Mean_rainfall_mm_Depart                           \n",
      "-0.0445        Mean_number_of_days_of_rain_Depart                \n",
      "0.0845        Mean_number_of_days_>_40_Degrees_C_Depart         \n",
      "0.0998        Arriving_Port_Vec_Sydney                          \n",
      "-0.0250        Arriving_Port_Vec_Melbourne                       \n",
      "0.2166        Arriving_Port_Vec_Brisbane                        \n",
      "-0.1526        Arriving_Port_Vec_Perth                           \n",
      "-0.1272        Arriving_Port_Vec_Adelaide                        \n",
      "-0.0886        Arriving_Port_Vec_Canberra                        \n",
      "-0.0267        Arriving_Port_Vec_Gold Coast                      \n",
      "-0.0019        Arriving_Port_Vec_Cairns                          \n",
      "-0.0691        Arriving_Port_Vec_Hobart                          \n",
      "-0.0312        Arriving_Port_Vec_Townsville                      \n",
      "-0.0714        Arriving_Port_Vec_Launceston                      \n",
      "0.0265        Arriving_Port_Vec_Newcastle                       \n",
      "-0.0721        Arriving_Port_Vec_Rockhampton                     \n",
      "0.2247        Arriving_Port_Vec_Mackay                          \n",
      "-0.1867        Arriving_Port_Vec_Albury                          \n",
      "0.2120        Arriving_Port_Vec_Sunshine Coast                  \n",
      "-0.1722        Arriving_Port_Vec_Dubbo                           \n",
      "-0.0025        Arriving_Port_Vec_Darwin                          \n",
      "-0.0084        Arriving_Port_Vec_Wagga Wagga                     \n",
      "-0.3378        Arriving_Port_Vec_Coffs Harbour                   \n",
      "-0.5724        Arriving_Port_Vec_Mildura                         \n",
      "0.1680        Arriving_Port_Vec_Karratha                        \n",
      "-0.5891        Arriving_Port_Vec_Port Macquarie                  \n",
      "-0.0685        Arriving_Port_Vec_Port Lincoln                    \n",
      "0.0535        Arriving_Port_Vec_Ballina                         \n",
      "-0.1516        Arriving_Port_Vec_Broome                          \n",
      "-0.5911        Arriving_Port_Vec_Gladstone                       \n",
      "-0.7185        Arriving_Port_Vec_Kalgoorlie                      \n",
      "-0.1595        Arriving_Port_Vec_Port Hedland                    \n",
      "-0.6908        Arriving_Port_Vec_Hamilton Island                 \n",
      "-0.4070        Arriving_Port_Vec_Newman                          \n",
      "-0.1321        Arriving_Port_Vec_Emerald                         \n",
      "0.2211        Arriving_Port_Vec_Proserpine                      \n",
      "-0.2829        Arriving_Port_Vec_Armidale                        \n",
      "-0.4371        Arriving_Port_Vec_Bundaberg                       \n",
      "0.1167        Arriving_Port_Vec_Geraldton                       \n",
      "-0.3216        Arriving_Port_Vec_Tamworth                        \n",
      "-0.6280        Arriving_Port_Vec_Alice Springs                   \n",
      "-0.2151        Arriving_Port_Vec_Moranbah                        \n",
      "-0.4182        Arriving_Port_Vec_Ayers Rock                      \n",
      "-0.0468        Arriving_Port_Vec_Mount Isa                       \n",
      "-0.3309        Arriving_Port_Vec_Devonport                       \n",
      "-1.1256        Arriving_Port_Vec_Burnie                          \n",
      "Area under ROC: 0.5960866297736711\n",
      "Accuracy: 0.373202841009555\n",
      "Weighted Precision: 0.7196658746248722\n",
      "Weighted Recall: 0.37320284100955503\n",
      "F1: 0.3721689985258557\n",
      "Accuracy: 0.373202841009555\n",
      "Precision: 0.7833603916606771\n",
      "Recall: 0.21956512254322252\n",
      "F1: 0.3429938075252021\n",
      "=================== Confusion Matrix ==========================\n",
      "##########| Predicted = 0                       Predicted = 1  \n",
      "----------+----------------------------------------------------\n",
      "Actual = 0| 80624                               259239         \n",
      "Actual = 1| 13718                               81898          \n",
      "===============================================================\n",
      "         "
     ]
    },
    {
     "data": {
      "text/plain": [
       "lrPredictions: org.apache.spark.sql.DataFrame = [Departing_Port: string, Arriving_Port: string ... 82 more fields]\n",
       "schema: org.apache.spark.sql.types.StructType = StructType(StructField(Departing_Port,StringType,true), StructField(Arriving_Port,StringType,true), StructField(Airline,StringType,true), StructField(label,IntegerType,true), StructField(Year,IntegerType,true), StructField(Month_Num,StringType,true), StructField(Fuel_Price,DoubleType,true), StructField(Departing_Port_station_ID,StringType,true), StructField(Departing_Port_station_name,StringType,true), StructField(Arriving_Port_station_ID,StringType,true), StructField(Arriving_Port_station_name,StringType,true), StructField(Mean_3pm_cloud_cover_oktas_Depart,DoubleType,true), StructField(Mean_3pm_dew_point_temperature_Degrees_C..."
      ]
     },
     "execution_count": 16,
     "metadata": {},
     "output_type": "execute_result"
    }
   ],
   "source": [
    "//Test the model\n",
    "val lrPredictions = pipelineModel.transform(testing)\n",
    "\n",
    "// Get output schema of our fitted pipeline\n",
    "val schema = lrPredictions.schema\n",
    "// Extract the attributes of the input (features) column to our logistic regression model\n",
    "\n",
    "val featureAttrs = AttributeGroup.fromStructField(schema(lrModel.getFeaturesCol)).attributes.get\n",
    "\n",
    "val features = featureAttrs.map(_.name.get)\n",
    "\n",
    "// Add \"(Intercept)\" to list of feature names if the model was fit with an intercept\n",
    "val featureNames: Array[String] = if (lrModel.getFitIntercept) {\n",
    "  Array(\"(Intercept)\") ++ features\n",
    "} else {\n",
    "  features\n",
    "}\n",
    "\n",
    "// Get array of coefficients\n",
    "val lrModelCoeffs = lrModel.coefficients.toArray\n",
    "val coeffs = if (lrModel.getFitIntercept) \n",
    "        {lrModelCoeffs ++ Array(lrModel.intercept)} \n",
    "    else \n",
    "        {lrModelCoeffs}\n",
    "\n",
    "// Print feature names & coefficients together\n",
    "println(\"Coefficient   Feature\")\n",
    "println(\"====================================================================\")\n",
    "featureNames.zip(coeffs)\n",
    "    .foreach { case (feature, coeff) => \n",
    "println(f\"$coeff%4.4f        $feature%-50.50s\")}\n",
    "\n",
    "\n",
    "\n",
    "//lrPredictions.select(\"prediction\", \"label\", \"features\").show(20)\n",
    "getConfusionMatrix(lrPredictions)"
   ]
  },
  {
   "cell_type": "markdown",
   "metadata": {},
   "source": [
    "## Store The Best CV Trained Logistic Model to the hdfs"
   ]
  },
  {
   "cell_type": "code",
   "execution_count": 18,
   "metadata": {},
   "outputs": [
    {
     "name": "stdout",
     "output_type": "stream",
     "text": [
      "20/06/05 03:53:47 INFO fs.TrashPolicyDefault: Namenode trash configuration: Deletion interval = 0 minutes, Emptier interval = 0 minutes.\n",
      "\n",
      "\n",
      "Deleted hdfs://localhost:9000/tmp/flightDelayModel__out\n",
      "\n",
      "\n"
     ]
    }
   ],
   "source": [
    "! hadoop fs -rm    -r  hdfs://localhost:9000/tmp/flightDelayModel_*\n",
    "! hadoop fs -mkdir -p  hdfs://localhost:9000/tmp/flightDelayModel__out"
   ]
  },
  {
   "cell_type": "code",
   "execution_count": 19,
   "metadata": {},
   "outputs": [],
   "source": [
    "//Persist the Model to the hdfs\n",
    "pipelineModel\n",
    "    .write\n",
    "    .overwrite()\n",
    "    .save(\"hdfs://localhost:9000/tmp/flightDelayModel__out\")\n"
   ]
  },
  {
   "cell_type": "code",
   "execution_count": 20,
   "metadata": {},
   "outputs": [
    {
     "name": "stdout",
     "output_type": "stream",
     "text": [
      "+---------------------------------------------------------------------+-----+----------+\n",
      "|features                                                             |label|prediction|\n",
      "+---------------------------------------------------------------------+-----+----------+\n",
      "|(101,[0,4,10,29,54,55,56,58],[184.0,1.0,2.78,1.0,241.0,40.4,6.7,1.0])|1    |1.0       |\n",
      "|(101,[0,4,10,29,54,55,56,58],[184.0,1.0,2.78,1.0,241.0,40.4,6.7,1.0])|1    |1.0       |\n",
      "+---------------------------------------------------------------------+-----+----------+\n",
      "only showing top 2 rows\n",
      "\n"
     ]
    },
    {
     "data": {
      "text/plain": [
       "results: org.apache.spark.sql.DataFrame = [features: vector, label: int ... 1 more field]\n"
      ]
     },
     "execution_count": 20,
     "metadata": {},
     "output_type": "execute_result"
    }
   ],
   "source": [
    "//Check the stored model, by reading it back in, and running a prediciton\n",
    "val results: DataFrame = CrossValidatorModel\n",
    ".load(\"hdfs://localhost:9000/tmp/flightDelayModel__out\")\n",
    ".transform(testing)\n",
    ".select(\n",
    "    col(\"features\"),\n",
    "    col(\"label\"),\n",
    "    col(\"prediction\")\n",
    ")\n",
    "\n",
    "results.show(2,truncate = false)"
   ]
  },
  {
   "cell_type": "code",
   "execution_count": null,
   "metadata": {},
   "outputs": [],
   "source": []
  }
 ],
 "metadata": {
  "kernelspec": {
   "display_name": "spylon-kernel",
   "language": "scala",
   "name": "spylon-kernel"
  },
  "language_info": {
   "codemirror_mode": "text/x-scala",
   "file_extension": ".scala",
   "help_links": [
    {
     "text": "MetaKernel Magics",
     "url": "https://metakernel.readthedocs.io/en/latest/source/README.html"
    }
   ],
   "mimetype": "text/x-scala",
   "name": "scala",
   "pygments_lexer": "scala",
   "version": "0.4.1"
  }
 },
 "nbformat": 4,
 "nbformat_minor": 4
}
